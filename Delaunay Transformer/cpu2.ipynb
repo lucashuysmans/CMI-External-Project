{
 "cells": [
  {
   "cell_type": "code",
   "execution_count": 3,
   "id": "transsexual-evans",
   "metadata": {},
   "outputs": [
    {
     "name": "stdout",
     "output_type": "stream",
     "text": [
      "Fri Mar 19 01:12:38 2021       \n",
      "+-----------------------------------------------------------------------------+\n",
      "| NVIDIA-SMI 440.118.02   Driver Version: 440.118.02   CUDA Version: 10.2     |\n",
      "|-------------------------------+----------------------+----------------------+\n",
      "| GPU  Name        Persistence-M| Bus-Id        Disp.A | Volatile Uncorr. ECC |\n",
      "| Fan  Temp  Perf  Pwr:Usage/Cap|         Memory-Usage | GPU-Util  Compute M. |\n",
      "|===============================+======================+======================|\n",
      "|   0  Tesla P100-PCIE...  Off  | 00000000:86:00.0 Off |                    0 |\n",
      "| N/A   40C    P0   164W / 250W |  15463MiB / 16280MiB |    100%      Default |\n",
      "+-------------------------------+----------------------+----------------------+\n",
      "|   1  Tesla P100-PCIE...  Off  | 00000000:AF:00.0 Off |                    0 |\n",
      "| N/A   43C    P0   108W / 250W |  16264MiB / 16280MiB |     58%      Default |\n",
      "+-------------------------------+----------------------+----------------------+\n",
      "                                                                               \n",
      "+-----------------------------------------------------------------------------+\n",
      "| Processes:                                                       GPU Memory |\n",
      "|  GPU       PID   Type   Process name                             Usage      |\n",
      "|=============================================================================|\n",
      "|    0     18639      C   ...ments/pytorch-1.8.0-cuda10.2/bin/python 15453MiB |\n",
      "|    1     18598      C   ...ments/pytorch-1.8.0-cuda10.2/bin/python 15451MiB |\n",
      "|    1     18639      C   ...ments/pytorch-1.8.0-cuda10.2/bin/python   801MiB |\n",
      "+-----------------------------------------------------------------------------+\n",
      "             total       used       free     shared    buffers     cached\n",
      "Mem:        385627       8075     377551        576          2       2951\n",
      "-/+ buffers/cache:       5122     380505\n",
      "Swap:       196614        137     196477\n"
     ]
    }
   ],
   "source": [
    "%%bash\n",
    "nvidia-smi\n",
    "free -m"
   ]
  },
  {
   "cell_type": "code",
   "execution_count": 16,
   "id": "outer-batman",
   "metadata": {},
   "outputs": [
    {
     "name": "stdout",
     "output_type": "stream",
     "text": [
      "             total       used       free     shared    buffers     cached\n",
      "Mem:        385627      45880     339747        179          2       3469\n",
      "-/+ buffers/cache:      42408     343218\n",
      "Swap:       196614       1354     195260\n"
     ]
    }
   ],
   "source": [
    "%%bash\n",
    "free -m"
   ]
  },
  {
   "cell_type": "code",
   "execution_count": null,
   "id": "caroline-angola",
   "metadata": {},
   "outputs": [],
   "source": []
  }
 ],
 "metadata": {
  "kernelspec": {
   "display_name": "Python 3",
   "language": "python",
   "name": "python3"
  },
  "language_info": {
   "codemirror_mode": {
    "name": "ipython",
    "version": 3
   },
   "file_extension": ".py",
   "mimetype": "text/x-python",
   "name": "python",
   "nbconvert_exporter": "python",
   "pygments_lexer": "ipython3",
   "version": "3.8.8"
  }
 },
 "nbformat": 4,
 "nbformat_minor": 5
}
